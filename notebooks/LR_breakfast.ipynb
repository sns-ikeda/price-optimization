{
 "cells": [
  {
   "cell_type": "code",
   "execution_count": 1,
   "metadata": {},
   "outputs": [],
   "source": [
    "import sys\n",
    "\n",
    "sys.path.append(\"..\")\n",
    "\n",
    "import warnings\n",
    "\n",
    "warnings.simplefilter(\"ignore\")\n",
    "\n",
    "from sklearn.model_selection import train_test_split\n",
    "import pandas as pd\n",
    "\n",
    "from src.data_preprocess.preprocessor import (\n",
    "    DataPreprocessor,\n",
    "    get_label2item,\n",
    ")\n",
    "from src.predict.predictor import PredictorHandler\n",
    "\n",
    "\n",
    "pd.set_option(\"display.max_columns\", None)\n",
    "pd.set_option(\"display.max_rows\", None)"
   ]
  },
  {
   "cell_type": "markdown",
   "metadata": {},
   "source": [
    "## シミュレーションの設定"
   ]
  },
  {
   "cell_type": "code",
   "execution_count": 2,
   "metadata": {},
   "outputs": [],
   "source": [
    "dataset_name = \"breakfast\"\n",
    "data_settings = {\n",
    "    \"store_num\": 25027,\n",
    "    \"category\": \"COLD CEREAL\",\n",
    "    \"manufacturer\": \"PRIVATE LABEL\",\n",
    "    \"target_col\": \"UNITS\",\n",
    "    \"base_cols\": [\"YEAR\", \"MONTH\", \"DAY\", \"PRICE\", \"DESCRIPTION\", \"UNITS\"],\n",
    "    \"master_cols\": [\"YEAR\", \"MONTH\", \"DAY\"],\n",
    "    \"num_of_prices\": 5,\n",
    "}\n",
    "predictor_name = \"linear_regression\"\n",
    "train_size = 0.5\n",
    "test_size = 1 - train_size\n",
    "\n",
    "# 商品ごとに使う特徴量（指定しない場合は他の商品の価格と年月日を利用）\n",
    "item2features = {\n",
    "    \"PL BT SZ FRSTD SHRD WHT\": [\"PRICE_PL BT SZ FRSTD SHRD WHT\"],\n",
    "    \"PL HONEY NUT TOASTD OATS\": [\"PRICE_PL HONEY NUT TOASTD OATS\"],\n",
    "    \"PL RAISIN BRAN\": [\"PRICE_PL RAISIN BRAN\"],\n",
    "}\n",
    "# item2features = None"
   ]
  },
  {
   "cell_type": "markdown",
   "metadata": {},
   "source": [
    "## データの前処理"
   ]
  },
  {
   "cell_type": "code",
   "execution_count": 3,
   "metadata": {},
   "outputs": [
    {
     "name": "stderr",
     "output_type": "stream",
     "text": [
      "[I 220828 13:06:31 preprocessor:34] # of rows [raw data]: 524950\n",
      "[I 220828 13:06:32 preprocessor:36] # of rows [processed data]: 156\n"
     ]
    }
   ],
   "source": [
    "# データの読み込みと前処理\n",
    "dp = DataPreprocessor(dataset_name)\n",
    "processed_df = dp.preprocess(**data_settings)\n",
    "\n",
    "# 後続の処理に必要な情報を作成\n",
    "target_cols = dp.get_target_cols(prefix=data_settings[\"target_col\"])\n",
    "feature_cols = dp.get_feature_cols(target_cols=target_cols)\n",
    "label2item = get_label2item(target_cols=target_cols)\n",
    "items = list(label2item.values())"
   ]
  },
  {
   "cell_type": "code",
   "execution_count": 4,
   "metadata": {},
   "outputs": [],
   "source": [
    "# 訓練データ，検証データに分割\n",
    "train_df, test_df = train_test_split(\n",
    "    processed_df, train_size=train_size, test_size=test_size, shuffle=False\n",
    ")\n",
    "test_df.reset_index(drop=True, inplace=True)"
   ]
  },
  {
   "cell_type": "code",
   "execution_count": 5,
   "metadata": {},
   "outputs": [
    {
     "data": {
      "text/html": [
       "<div>\n",
       "<style scoped>\n",
       "    .dataframe tbody tr th:only-of-type {\n",
       "        vertical-align: middle;\n",
       "    }\n",
       "\n",
       "    .dataframe tbody tr th {\n",
       "        vertical-align: top;\n",
       "    }\n",
       "\n",
       "    .dataframe thead th {\n",
       "        text-align: right;\n",
       "    }\n",
       "</style>\n",
       "<table border=\"1\" class=\"dataframe\">\n",
       "  <thead>\n",
       "    <tr style=\"text-align: right;\">\n",
       "      <th></th>\n",
       "      <th>YEAR</th>\n",
       "      <th>MONTH</th>\n",
       "      <th>DAY</th>\n",
       "      <th>PRICE_PL BT SZ FRSTD SHRD WHT</th>\n",
       "      <th>PRICE_PL HONEY NUT TOASTD OATS</th>\n",
       "      <th>PRICE_PL RAISIN BRAN</th>\n",
       "      <th>UNITS_PL BT SZ FRSTD SHRD WHT</th>\n",
       "      <th>UNITS_PL HONEY NUT TOASTD OATS</th>\n",
       "      <th>UNITS_PL RAISIN BRAN</th>\n",
       "    </tr>\n",
       "  </thead>\n",
       "  <tbody>\n",
       "    <tr>\n",
       "      <th>0</th>\n",
       "      <td>2009</td>\n",
       "      <td>1</td>\n",
       "      <td>14</td>\n",
       "      <td>1.98</td>\n",
       "      <td>1.85</td>\n",
       "      <td>1.88</td>\n",
       "      <td>100</td>\n",
       "      <td>50</td>\n",
       "      <td>69</td>\n",
       "    </tr>\n",
       "    <tr>\n",
       "      <th>1</th>\n",
       "      <td>2009</td>\n",
       "      <td>1</td>\n",
       "      <td>21</td>\n",
       "      <td>1.97</td>\n",
       "      <td>1.87</td>\n",
       "      <td>1.88</td>\n",
       "      <td>100</td>\n",
       "      <td>66</td>\n",
       "      <td>47</td>\n",
       "    </tr>\n",
       "    <tr>\n",
       "      <th>2</th>\n",
       "      <td>2009</td>\n",
       "      <td>1</td>\n",
       "      <td>28</td>\n",
       "      <td>1.99</td>\n",
       "      <td>1.88</td>\n",
       "      <td>1.88</td>\n",
       "      <td>129</td>\n",
       "      <td>59</td>\n",
       "      <td>63</td>\n",
       "    </tr>\n",
       "    <tr>\n",
       "      <th>3</th>\n",
       "      <td>2009</td>\n",
       "      <td>2</td>\n",
       "      <td>4</td>\n",
       "      <td>1.99</td>\n",
       "      <td>1.89</td>\n",
       "      <td>1.88</td>\n",
       "      <td>122</td>\n",
       "      <td>54</td>\n",
       "      <td>59</td>\n",
       "    </tr>\n",
       "    <tr>\n",
       "      <th>4</th>\n",
       "      <td>2009</td>\n",
       "      <td>2</td>\n",
       "      <td>11</td>\n",
       "      <td>1.94</td>\n",
       "      <td>1.85</td>\n",
       "      <td>1.87</td>\n",
       "      <td>113</td>\n",
       "      <td>20</td>\n",
       "      <td>61</td>\n",
       "    </tr>\n",
       "  </tbody>\n",
       "</table>\n",
       "</div>"
      ],
      "text/plain": [
       "   YEAR  MONTH  DAY  PRICE_PL BT SZ FRSTD SHRD WHT  \\\n",
       "0  2009      1   14                           1.98   \n",
       "1  2009      1   21                           1.97   \n",
       "2  2009      1   28                           1.99   \n",
       "3  2009      2    4                           1.99   \n",
       "4  2009      2   11                           1.94   \n",
       "\n",
       "   PRICE_PL HONEY NUT TOASTD OATS  PRICE_PL RAISIN BRAN  \\\n",
       "0                            1.85                  1.88   \n",
       "1                            1.87                  1.88   \n",
       "2                            1.88                  1.88   \n",
       "3                            1.89                  1.88   \n",
       "4                            1.85                  1.87   \n",
       "\n",
       "   UNITS_PL BT SZ FRSTD SHRD WHT  UNITS_PL HONEY NUT TOASTD OATS  \\\n",
       "0                            100                              50   \n",
       "1                            100                              66   \n",
       "2                            129                              59   \n",
       "3                            122                              54   \n",
       "4                            113                              20   \n",
       "\n",
       "   UNITS_PL RAISIN BRAN  \n",
       "0                    69  \n",
       "1                    47  \n",
       "2                    63  \n",
       "3                    59  \n",
       "4                    61  "
      ]
     },
     "execution_count": 5,
     "metadata": {},
     "output_type": "execute_result"
    }
   ],
   "source": [
    "train_df.head()"
   ]
  },
  {
   "cell_type": "code",
   "execution_count": 6,
   "metadata": {},
   "outputs": [
    {
     "data": {
      "text/html": [
       "<div>\n",
       "<style scoped>\n",
       "    .dataframe tbody tr th:only-of-type {\n",
       "        vertical-align: middle;\n",
       "    }\n",
       "\n",
       "    .dataframe tbody tr th {\n",
       "        vertical-align: top;\n",
       "    }\n",
       "\n",
       "    .dataframe thead th {\n",
       "        text-align: right;\n",
       "    }\n",
       "</style>\n",
       "<table border=\"1\" class=\"dataframe\">\n",
       "  <thead>\n",
       "    <tr style=\"text-align: right;\">\n",
       "      <th></th>\n",
       "      <th>YEAR</th>\n",
       "      <th>MONTH</th>\n",
       "      <th>DAY</th>\n",
       "      <th>PRICE_PL BT SZ FRSTD SHRD WHT</th>\n",
       "      <th>PRICE_PL HONEY NUT TOASTD OATS</th>\n",
       "      <th>PRICE_PL RAISIN BRAN</th>\n",
       "      <th>UNITS_PL BT SZ FRSTD SHRD WHT</th>\n",
       "      <th>UNITS_PL HONEY NUT TOASTD OATS</th>\n",
       "      <th>UNITS_PL RAISIN BRAN</th>\n",
       "    </tr>\n",
       "  </thead>\n",
       "  <tbody>\n",
       "    <tr>\n",
       "      <th>0</th>\n",
       "      <td>2010</td>\n",
       "      <td>7</td>\n",
       "      <td>14</td>\n",
       "      <td>2.30</td>\n",
       "      <td>1.84</td>\n",
       "      <td>1.86</td>\n",
       "      <td>73</td>\n",
       "      <td>40</td>\n",
       "      <td>55</td>\n",
       "    </tr>\n",
       "    <tr>\n",
       "      <th>1</th>\n",
       "      <td>2010</td>\n",
       "      <td>7</td>\n",
       "      <td>21</td>\n",
       "      <td>2.30</td>\n",
       "      <td>1.88</td>\n",
       "      <td>1.87</td>\n",
       "      <td>75</td>\n",
       "      <td>60</td>\n",
       "      <td>98</td>\n",
       "    </tr>\n",
       "    <tr>\n",
       "      <th>2</th>\n",
       "      <td>2010</td>\n",
       "      <td>7</td>\n",
       "      <td>28</td>\n",
       "      <td>2.36</td>\n",
       "      <td>1.87</td>\n",
       "      <td>1.88</td>\n",
       "      <td>79</td>\n",
       "      <td>65</td>\n",
       "      <td>54</td>\n",
       "    </tr>\n",
       "    <tr>\n",
       "      <th>3</th>\n",
       "      <td>2010</td>\n",
       "      <td>8</td>\n",
       "      <td>4</td>\n",
       "      <td>2.35</td>\n",
       "      <td>1.88</td>\n",
       "      <td>1.87</td>\n",
       "      <td>82</td>\n",
       "      <td>61</td>\n",
       "      <td>74</td>\n",
       "    </tr>\n",
       "    <tr>\n",
       "      <th>4</th>\n",
       "      <td>2010</td>\n",
       "      <td>8</td>\n",
       "      <td>11</td>\n",
       "      <td>1.95</td>\n",
       "      <td>1.71</td>\n",
       "      <td>1.70</td>\n",
       "      <td>176</td>\n",
       "      <td>52</td>\n",
       "      <td>106</td>\n",
       "    </tr>\n",
       "  </tbody>\n",
       "</table>\n",
       "</div>"
      ],
      "text/plain": [
       "   YEAR  MONTH  DAY  PRICE_PL BT SZ FRSTD SHRD WHT  \\\n",
       "0  2010      7   14                           2.30   \n",
       "1  2010      7   21                           2.30   \n",
       "2  2010      7   28                           2.36   \n",
       "3  2010      8    4                           2.35   \n",
       "4  2010      8   11                           1.95   \n",
       "\n",
       "   PRICE_PL HONEY NUT TOASTD OATS  PRICE_PL RAISIN BRAN  \\\n",
       "0                            1.84                  1.86   \n",
       "1                            1.88                  1.87   \n",
       "2                            1.87                  1.88   \n",
       "3                            1.88                  1.87   \n",
       "4                            1.71                  1.70   \n",
       "\n",
       "   UNITS_PL BT SZ FRSTD SHRD WHT  UNITS_PL HONEY NUT TOASTD OATS  \\\n",
       "0                             73                              40   \n",
       "1                             75                              60   \n",
       "2                             79                              65   \n",
       "3                             82                              61   \n",
       "4                            176                              52   \n",
       "\n",
       "   UNITS_PL RAISIN BRAN  \n",
       "0                    55  \n",
       "1                    98  \n",
       "2                    54  \n",
       "3                    74  \n",
       "4                   106  "
      ]
     },
     "execution_count": 6,
     "metadata": {},
     "output_type": "execute_result"
    }
   ],
   "source": [
    "test_df.head()"
   ]
  },
  {
   "cell_type": "markdown",
   "metadata": {},
   "source": [
    "## 予測モデルの構築"
   ]
  },
  {
   "cell_type": "code",
   "execution_count": 8,
   "metadata": {},
   "outputs": [
    {
     "name": "stderr",
     "output_type": "stream",
     "text": [
      "[I 220828 13:04:42 predictor:123] RMSE for train data [PL BT SZ FRSTD SHRD WHT]: 25.4\n",
      "[I 220828 13:04:42 predictor:127] R^2 for train data [PL BT SZ FRSTD SHRD WHT]: 0.27\n",
      "[I 220828 13:04:43 predictor:123] RMSE for test data [PL BT SZ FRSTD SHRD WHT]: 32.0\n",
      "[I 220828 13:04:43 predictor:127] R^2 for test data [PL BT SZ FRSTD SHRD WHT]: 0.13\n",
      "[I 220828 13:04:44 predictor:123] RMSE for train data [PL HONEY NUT TOASTD OATS]: 18.4\n",
      "[I 220828 13:04:44 predictor:127] R^2 for train data [PL HONEY NUT TOASTD OATS]: 0.21\n",
      "[I 220828 13:04:44 predictor:123] RMSE for test data [PL HONEY NUT TOASTD OATS]: 26.5\n",
      "[I 220828 13:04:44 predictor:127] R^2 for test data [PL HONEY NUT TOASTD OATS]: -0.79\n",
      "[I 220828 13:04:45 predictor:123] RMSE for train data [PL RAISIN BRAN]: 17.7\n",
      "[I 220828 13:04:45 predictor:127] R^2 for train data [PL RAISIN BRAN]: 0.34\n",
      "[I 220828 13:04:46 predictor:123] RMSE for test data [PL RAISIN BRAN]: 26.0\n",
      "[I 220828 13:04:46 predictor:127] R^2 for test data [PL RAISIN BRAN]: -0.42\n",
      "[I 220828 13:04:46 predictor:123] RMSE for train data [PL BT SZ FRSTD SHRD WHT]: 28.5\n",
      "[I 220828 13:04:46 predictor:127] R^2 for train data [PL BT SZ FRSTD SHRD WHT]: 0.31\n",
      "[I 220828 13:04:47 predictor:123] RMSE for train data [PL HONEY NUT TOASTD OATS]: 19.8\n",
      "[I 220828 13:04:47 predictor:127] R^2 for train data [PL HONEY NUT TOASTD OATS]: 0.0\n",
      "[I 220828 13:04:48 predictor:123] RMSE for train data [PL RAISIN BRAN]: 21.6\n",
      "[I 220828 13:04:48 predictor:127] R^2 for train data [PL RAISIN BRAN]: 0.02\n"
     ]
    },
    {
     "data": {
      "text/plain": [
       "<Figure size 432x288 with 0 Axes>"
      ]
     },
     "metadata": {},
     "output_type": "display_data"
    }
   ],
   "source": [
    "# 学習データに対する予測モデルを構築\n",
    "train_predictors = PredictorHandler(\n",
    "    train_df=train_df,\n",
    "    test_df=test_df,\n",
    "    label2item=label2item,\n",
    "    predictor_name=predictor_name,\n",
    "    prefix=\"train\",\n",
    ")\n",
    "train_predictors.run(item2features)  # 結果はdata/results/realworld/predict　に格納\n",
    "\n",
    "# テストデータに対する予測モデルを構築\n",
    "test_predictors = PredictorHandler(\n",
    "    train_df=test_df,\n",
    "    label2item=label2item,\n",
    "    predictor_name=predictor_name,\n",
    "    prefix=\"test\",\n",
    ")\n",
    "test_predictors.run(item2features)  # 結果はdata/results/realworld/predict　に格納"
   ]
  },
  {
   "cell_type": "code",
   "execution_count": 9,
   "metadata": {},
   "outputs": [
    {
     "data": {
      "text/plain": [
       "defaultdict(<function src.predict.predictor.PredictorHandler.__init__.<locals>.<lambda>()>,\n",
       "            {'rmse': defaultdict(dict,\n",
       "                         {'train': {'PL BT SZ FRSTD SHRD WHT': 25.4,\n",
       "                           'PL HONEY NUT TOASTD OATS': 18.4,\n",
       "                           'PL RAISIN BRAN': 17.7,\n",
       "                           'mean': 20.5},\n",
       "                          'test': {'PL BT SZ FRSTD SHRD WHT': 32.0,\n",
       "                           'PL HONEY NUT TOASTD OATS': 26.5,\n",
       "                           'PL RAISIN BRAN': 26.0,\n",
       "                           'mean': 28.17}}),\n",
       "             'r2': defaultdict(dict,\n",
       "                         {'train': {'PL BT SZ FRSTD SHRD WHT': 0.27,\n",
       "                           'PL HONEY NUT TOASTD OATS': 0.21,\n",
       "                           'PL RAISIN BRAN': 0.34,\n",
       "                           'mean': 0.27},\n",
       "                          'test': {'PL BT SZ FRSTD SHRD WHT': 0.13,\n",
       "                           'PL HONEY NUT TOASTD OATS': -0.79,\n",
       "                           'PL RAISIN BRAN': -0.42,\n",
       "                           'mean': -0.36}})})"
      ]
     },
     "execution_count": 9,
     "metadata": {},
     "output_type": "execute_result"
    }
   ],
   "source": [
    "train_predictors.result"
   ]
  },
  {
   "cell_type": "code",
   "execution_count": null,
   "metadata": {},
   "outputs": [],
   "source": []
  }
 ],
 "metadata": {
  "kernelspec": {
   "display_name": "Python 3.9.1 ('.venv': poetry)",
   "language": "python",
   "name": "python3"
  },
  "language_info": {
   "codemirror_mode": {
    "name": "ipython",
    "version": 3
   },
   "file_extension": ".py",
   "mimetype": "text/x-python",
   "name": "python",
   "nbconvert_exporter": "python",
   "pygments_lexer": "ipython3",
   "version": "3.9.1"
  },
  "orig_nbformat": 4,
  "vscode": {
   "interpreter": {
    "hash": "deabe2d5fecd05fe41e061ce5977bccdc750003b60fb408ce6c37ce0c800a617"
   }
  }
 },
 "nbformat": 4,
 "nbformat_minor": 2
}
