{
 "cells": [
  {
   "cell_type": "code",
   "execution_count": 1,
   "metadata": {},
   "outputs": [],
   "source": [
    "import sys\n",
    "\n",
    "sys.path.append(\"..\")\n",
    "\n",
    "import warnings\n",
    "\n",
    "warnings.simplefilter(\"ignore\")\n",
    "\n",
    "from sklearn.model_selection import train_test_split\n",
    "import pandas as pd\n",
    "\n",
    "from src.data_preprocess.preprocessor import (\n",
    "    DataPreprocessor,\n",
    "    get_label2item,\n",
    ")\n",
    "from src.predict.predictor import PredictorHandler\n",
    "\n",
    "\n",
    "pd.set_option(\"display.max_columns\", None)\n",
    "pd.set_option(\"display.max_rows\", None)"
   ]
  },
  {
   "cell_type": "markdown",
   "metadata": {},
   "source": [
    "## シミュレーションの設定"
   ]
  },
  {
   "cell_type": "code",
   "execution_count": 2,
   "metadata": {},
   "outputs": [],
   "source": [
    "dataset_name = \"breakfast\"\n",
    "data_settings = {\n",
    "    \"store_num\": 25027,\n",
    "    \"category\": \"COLD CEREAL\",\n",
    "    # \"manufacturer\": \"PRIVATE LABEL\",\n",
    "    \"manufacturer\": \"POST FOODS\",\n",
    "    \"target_col\": \"UNITS\",\n",
    "    \"base_cols\": [\"YEAR\", \"MONTH\", \"DAY\", \"PRICE\", \"DESCRIPTION\", \"UNITS\"],\n",
    "    \"master_cols\": [\"YEAR\", \"MONTH\", \"DAY\"],\n",
    "    \"num_of_prices\": 5,\n",
    "}\n",
    "predictor_name = \"linear_regression\"\n",
    "# predictor_name = \"ORT_LH\"\n",
    "\n",
    "train_size = 0.5\n",
    "test_size = 1 - train_size"
   ]
  },
  {
   "cell_type": "markdown",
   "metadata": {},
   "source": [
    "## データの前処理"
   ]
  },
  {
   "cell_type": "code",
   "execution_count": 3,
   "metadata": {},
   "outputs": [
    {
     "name": "stderr",
     "output_type": "stream",
     "text": [
      "[I 220829 00:36:46 preprocessor:34] # of rows [raw data]: 524950\n",
      "[I 220829 00:36:48 preprocessor:36] # of rows [processed data]: 130\n"
     ]
    }
   ],
   "source": [
    "# データの読み込みと前処理\n",
    "dp = DataPreprocessor(dataset_name)\n",
    "processed_df = dp.preprocess(**data_settings)\n",
    "\n",
    "# 後続の処理に必要な情報を作成\n",
    "target_cols = dp.get_target_cols(prefix=data_settings[\"target_col\"])\n",
    "feature_cols = dp.get_feature_cols(target_cols=target_cols)\n",
    "label2item = get_label2item(target_cols=target_cols)\n",
    "items = list(label2item.values())"
   ]
  },
  {
   "cell_type": "code",
   "execution_count": 4,
   "metadata": {},
   "outputs": [
    {
     "data": {
      "text/plain": [
       "['POST FM SZ HNYBNCH OT ALM',\n",
       " 'POST FRUITY PEBBLES',\n",
       " 'POST HNY BN OTS HNY RSTD']"
      ]
     },
     "execution_count": 4,
     "metadata": {},
     "output_type": "execute_result"
    }
   ],
   "source": [
    "items"
   ]
  },
  {
   "cell_type": "code",
   "execution_count": 5,
   "metadata": {},
   "outputs": [],
   "source": [
    "# 商品ごとに使う特徴量（指定しない場合は他の商品の価格と年月日を利用）\n",
    "# item2features = {item: [\"PRICE_\" + item] for item in items}\n",
    "item2features = None"
   ]
  },
  {
   "cell_type": "markdown",
   "metadata": {},
   "source": [
    "## データの可視化"
   ]
  },
  {
   "cell_type": "code",
   "execution_count": 6,
   "metadata": {},
   "outputs": [],
   "source": [
    "%matplotlib inline\n",
    "import matplotlib.pyplot as plt\n",
    "import seaborn as sns"
   ]
  },
  {
   "cell_type": "code",
   "execution_count": 7,
   "metadata": {},
   "outputs": [
    {
     "data": {
      "text/html": [
       "<div>\n",
       "<style scoped>\n",
       "    .dataframe tbody tr th:only-of-type {\n",
       "        vertical-align: middle;\n",
       "    }\n",
       "\n",
       "    .dataframe tbody tr th {\n",
       "        vertical-align: top;\n",
       "    }\n",
       "\n",
       "    .dataframe thead th {\n",
       "        text-align: right;\n",
       "    }\n",
       "</style>\n",
       "<table border=\"1\" class=\"dataframe\">\n",
       "  <thead>\n",
       "    <tr style=\"text-align: right;\">\n",
       "      <th></th>\n",
       "      <th>YEAR</th>\n",
       "      <th>MONTH</th>\n",
       "      <th>DAY</th>\n",
       "      <th>PRICE_POST FM SZ HNYBNCH OT ALM</th>\n",
       "      <th>PRICE_POST FRUITY PEBBLES</th>\n",
       "      <th>PRICE_POST HNY BN OTS HNY RSTD</th>\n",
       "      <th>UNITS_POST FM SZ HNYBNCH OT ALM</th>\n",
       "      <th>UNITS_POST FRUITY PEBBLES</th>\n",
       "      <th>UNITS_POST HNY BN OTS HNY RSTD</th>\n",
       "    </tr>\n",
       "  </thead>\n",
       "  <tbody>\n",
       "    <tr>\n",
       "      <th>0</th>\n",
       "      <td>2009</td>\n",
       "      <td>7</td>\n",
       "      <td>8</td>\n",
       "      <td>3.29</td>\n",
       "      <td>2.6</td>\n",
       "      <td>3.29</td>\n",
       "      <td>9.0</td>\n",
       "      <td>41.0</td>\n",
       "      <td>50.0</td>\n",
       "    </tr>\n",
       "    <tr>\n",
       "      <th>1</th>\n",
       "      <td>2009</td>\n",
       "      <td>7</td>\n",
       "      <td>15</td>\n",
       "      <td>2.77</td>\n",
       "      <td>2.6</td>\n",
       "      <td>2.73</td>\n",
       "      <td>23.0</td>\n",
       "      <td>56.0</td>\n",
       "      <td>107.0</td>\n",
       "    </tr>\n",
       "    <tr>\n",
       "      <th>2</th>\n",
       "      <td>2009</td>\n",
       "      <td>7</td>\n",
       "      <td>22</td>\n",
       "      <td>3.29</td>\n",
       "      <td>2.6</td>\n",
       "      <td>3.29</td>\n",
       "      <td>22.0</td>\n",
       "      <td>50.0</td>\n",
       "      <td>41.0</td>\n",
       "    </tr>\n",
       "    <tr>\n",
       "      <th>3</th>\n",
       "      <td>2009</td>\n",
       "      <td>7</td>\n",
       "      <td>29</td>\n",
       "      <td>3.29</td>\n",
       "      <td>2.6</td>\n",
       "      <td>3.25</td>\n",
       "      <td>24.0</td>\n",
       "      <td>46.0</td>\n",
       "      <td>36.0</td>\n",
       "    </tr>\n",
       "    <tr>\n",
       "      <th>4</th>\n",
       "      <td>2009</td>\n",
       "      <td>8</td>\n",
       "      <td>5</td>\n",
       "      <td>3.29</td>\n",
       "      <td>2.6</td>\n",
       "      <td>3.29</td>\n",
       "      <td>34.0</td>\n",
       "      <td>57.0</td>\n",
       "      <td>52.0</td>\n",
       "    </tr>\n",
       "  </tbody>\n",
       "</table>\n",
       "</div>"
      ],
      "text/plain": [
       "   YEAR  MONTH  DAY  PRICE_POST FM SZ HNYBNCH OT ALM  \\\n",
       "0  2009      7    8                             3.29   \n",
       "1  2009      7   15                             2.77   \n",
       "2  2009      7   22                             3.29   \n",
       "3  2009      7   29                             3.29   \n",
       "4  2009      8    5                             3.29   \n",
       "\n",
       "   PRICE_POST FRUITY PEBBLES  PRICE_POST HNY BN OTS HNY RSTD  \\\n",
       "0                        2.6                            3.29   \n",
       "1                        2.6                            2.73   \n",
       "2                        2.6                            3.29   \n",
       "3                        2.6                            3.25   \n",
       "4                        2.6                            3.29   \n",
       "\n",
       "   UNITS_POST FM SZ HNYBNCH OT ALM  UNITS_POST FRUITY PEBBLES  \\\n",
       "0                              9.0                       41.0   \n",
       "1                             23.0                       56.0   \n",
       "2                             22.0                       50.0   \n",
       "3                             24.0                       46.0   \n",
       "4                             34.0                       57.0   \n",
       "\n",
       "   UNITS_POST HNY BN OTS HNY RSTD  \n",
       "0                            50.0  \n",
       "1                           107.0  \n",
       "2                            41.0  \n",
       "3                            36.0  \n",
       "4                            52.0  "
      ]
     },
     "execution_count": 7,
     "metadata": {},
     "output_type": "execute_result"
    }
   ],
   "source": [
    "processed_df.head()"
   ]
  },
  {
   "cell_type": "code",
   "execution_count": 8,
   "metadata": {},
   "outputs": [
    {
     "data": {
      "image/png": "[encoded data removed]",
      "text/plain": [
       "<Figure size 648x432 with 1 Axes>"
      ]
     },
     "metadata": {
      "needs_background": "light"
     },
     "output_type": "display_data"
    },
    {
     "data": {
      "image/png": "[encoded data removed]",
      "text/plain": [
       "<Figure size 648x432 with 1 Axes>"
      ]
     },
     "metadata": {
      "needs_background": "light"
     },
     "output_type": "display_data"
    },
    {
     "data": {
      "image/png": "[encoded data removed]",
      "text/plain": [
       "<Figure size 648x432 with 1 Axes>"
      ]
     },
     "metadata": {
      "needs_background": "light"
     },
     "output_type": "display_data"
    }
   ],
   "source": [
    "for item in items:\n",
    "    price_col = \"PRICE_\" + item\n",
    "    unit_col = \"UNITS_\" + item\n",
    "    plt.figure(figsize=(9, 6))\n",
    "    sns.scatterplot(x=price_col, y=unit_col, data=processed_df)"
   ]
  },
  {
   "cell_type": "code",
   "execution_count": 9,
   "metadata": {},
   "outputs": [],
   "source": [
    "# 訓練データ，検証データに分割\n",
    "train_df, test_df = train_test_split(\n",
    "    processed_df, train_size=train_size, test_size=test_size, shuffle=False\n",
    ")\n",
    "test_df.reset_index(drop=True, inplace=True)"
   ]
  },
  {
   "cell_type": "code",
   "execution_count": 10,
   "metadata": {},
   "outputs": [
    {
     "data": {
      "text/html": [
       "<div>\n",
       "<style scoped>\n",
       "    .dataframe tbody tr th:only-of-type {\n",
       "        vertical-align: middle;\n",
       "    }\n",
       "\n",
       "    .dataframe tbody tr th {\n",
       "        vertical-align: top;\n",
       "    }\n",
       "\n",
       "    .dataframe thead th {\n",
       "        text-align: right;\n",
       "    }\n",
       "</style>\n",
       "<table border=\"1\" class=\"dataframe\">\n",
       "  <thead>\n",
       "    <tr style=\"text-align: right;\">\n",
       "      <th></th>\n",
       "      <th>YEAR</th>\n",
       "      <th>MONTH</th>\n",
       "      <th>DAY</th>\n",
       "      <th>PRICE_POST FM SZ HNYBNCH OT ALM</th>\n",
       "      <th>PRICE_POST FRUITY PEBBLES</th>\n",
       "      <th>PRICE_POST HNY BN OTS HNY RSTD</th>\n",
       "      <th>UNITS_POST FM SZ HNYBNCH OT ALM</th>\n",
       "      <th>UNITS_POST FRUITY PEBBLES</th>\n",
       "      <th>UNITS_POST HNY BN OTS HNY RSTD</th>\n",
       "    </tr>\n",
       "  </thead>\n",
       "  <tbody>\n",
       "    <tr>\n",
       "      <th>0</th>\n",
       "      <td>2009</td>\n",
       "      <td>7</td>\n",
       "      <td>8</td>\n",
       "      <td>3.29</td>\n",
       "      <td>2.6</td>\n",
       "      <td>3.29</td>\n",
       "      <td>9.0</td>\n",
       "      <td>41.0</td>\n",
       "      <td>50.0</td>\n",
       "    </tr>\n",
       "    <tr>\n",
       "      <th>1</th>\n",
       "      <td>2009</td>\n",
       "      <td>7</td>\n",
       "      <td>15</td>\n",
       "      <td>2.77</td>\n",
       "      <td>2.6</td>\n",
       "      <td>2.73</td>\n",
       "      <td>23.0</td>\n",
       "      <td>56.0</td>\n",
       "      <td>107.0</td>\n",
       "    </tr>\n",
       "    <tr>\n",
       "      <th>2</th>\n",
       "      <td>2009</td>\n",
       "      <td>7</td>\n",
       "      <td>22</td>\n",
       "      <td>3.29</td>\n",
       "      <td>2.6</td>\n",
       "      <td>3.29</td>\n",
       "      <td>22.0</td>\n",
       "      <td>50.0</td>\n",
       "      <td>41.0</td>\n",
       "    </tr>\n",
       "    <tr>\n",
       "      <th>3</th>\n",
       "      <td>2009</td>\n",
       "      <td>7</td>\n",
       "      <td>29</td>\n",
       "      <td>3.29</td>\n",
       "      <td>2.6</td>\n",
       "      <td>3.25</td>\n",
       "      <td>24.0</td>\n",
       "      <td>46.0</td>\n",
       "      <td>36.0</td>\n",
       "    </tr>\n",
       "    <tr>\n",
       "      <th>4</th>\n",
       "      <td>2009</td>\n",
       "      <td>8</td>\n",
       "      <td>5</td>\n",
       "      <td>3.29</td>\n",
       "      <td>2.6</td>\n",
       "      <td>3.29</td>\n",
       "      <td>34.0</td>\n",
       "      <td>57.0</td>\n",
       "      <td>52.0</td>\n",
       "    </tr>\n",
       "  </tbody>\n",
       "</table>\n",
       "</div>"
      ],
      "text/plain": [
       "   YEAR  MONTH  DAY  PRICE_POST FM SZ HNYBNCH OT ALM  \\\n",
       "0  2009      7    8                             3.29   \n",
       "1  2009      7   15                             2.77   \n",
       "2  2009      7   22                             3.29   \n",
       "3  2009      7   29                             3.29   \n",
       "4  2009      8    5                             3.29   \n",
       "\n",
       "   PRICE_POST FRUITY PEBBLES  PRICE_POST HNY BN OTS HNY RSTD  \\\n",
       "0                        2.6                            3.29   \n",
       "1                        2.6                            2.73   \n",
       "2                        2.6                            3.29   \n",
       "3                        2.6                            3.25   \n",
       "4                        2.6                            3.29   \n",
       "\n",
       "   UNITS_POST FM SZ HNYBNCH OT ALM  UNITS_POST FRUITY PEBBLES  \\\n",
       "0                              9.0                       41.0   \n",
       "1                             23.0                       56.0   \n",
       "2                             22.0                       50.0   \n",
       "3                             24.0                       46.0   \n",
       "4                             34.0                       57.0   \n",
       "\n",
       "   UNITS_POST HNY BN OTS HNY RSTD  \n",
       "0                            50.0  \n",
       "1                           107.0  \n",
       "2                            41.0  \n",
       "3                            36.0  \n",
       "4                            52.0  "
      ]
     },
     "execution_count": 10,
     "metadata": {},
     "output_type": "execute_result"
    }
   ],
   "source": [
    "train_df.head()"
   ]
  },
  {
   "cell_type": "code",
   "execution_count": 11,
   "metadata": {},
   "outputs": [
    {
     "data": {
      "text/html": [
       "<div>\n",
       "<style scoped>\n",
       "    .dataframe tbody tr th:only-of-type {\n",
       "        vertical-align: middle;\n",
       "    }\n",
       "\n",
       "    .dataframe tbody tr th {\n",
       "        vertical-align: top;\n",
       "    }\n",
       "\n",
       "    .dataframe thead th {\n",
       "        text-align: right;\n",
       "    }\n",
       "</style>\n",
       "<table border=\"1\" class=\"dataframe\">\n",
       "  <thead>\n",
       "    <tr style=\"text-align: right;\">\n",
       "      <th></th>\n",
       "      <th>YEAR</th>\n",
       "      <th>MONTH</th>\n",
       "      <th>DAY</th>\n",
       "      <th>PRICE_POST FM SZ HNYBNCH OT ALM</th>\n",
       "      <th>PRICE_POST FRUITY PEBBLES</th>\n",
       "      <th>PRICE_POST HNY BN OTS HNY RSTD</th>\n",
       "      <th>UNITS_POST FM SZ HNYBNCH OT ALM</th>\n",
       "      <th>UNITS_POST FRUITY PEBBLES</th>\n",
       "      <th>UNITS_POST HNY BN OTS HNY RSTD</th>\n",
       "    </tr>\n",
       "  </thead>\n",
       "  <tbody>\n",
       "    <tr>\n",
       "      <th>0</th>\n",
       "      <td>2010</td>\n",
       "      <td>10</td>\n",
       "      <td>13</td>\n",
       "      <td>3.24</td>\n",
       "      <td>2.88</td>\n",
       "      <td>3.24</td>\n",
       "      <td>45.0</td>\n",
       "      <td>55.0</td>\n",
       "      <td>78.0</td>\n",
       "    </tr>\n",
       "    <tr>\n",
       "      <th>1</th>\n",
       "      <td>2010</td>\n",
       "      <td>10</td>\n",
       "      <td>20</td>\n",
       "      <td>3.18</td>\n",
       "      <td>2.88</td>\n",
       "      <td>3.18</td>\n",
       "      <td>47.0</td>\n",
       "      <td>45.0</td>\n",
       "      <td>60.0</td>\n",
       "    </tr>\n",
       "    <tr>\n",
       "      <th>2</th>\n",
       "      <td>2010</td>\n",
       "      <td>10</td>\n",
       "      <td>27</td>\n",
       "      <td>3.18</td>\n",
       "      <td>1.99</td>\n",
       "      <td>3.18</td>\n",
       "      <td>34.0</td>\n",
       "      <td>183.0</td>\n",
       "      <td>50.0</td>\n",
       "    </tr>\n",
       "    <tr>\n",
       "      <th>3</th>\n",
       "      <td>2010</td>\n",
       "      <td>11</td>\n",
       "      <td>3</td>\n",
       "      <td>3.18</td>\n",
       "      <td>2.82</td>\n",
       "      <td>3.18</td>\n",
       "      <td>37.0</td>\n",
       "      <td>32.0</td>\n",
       "      <td>52.0</td>\n",
       "    </tr>\n",
       "    <tr>\n",
       "      <th>4</th>\n",
       "      <td>2010</td>\n",
       "      <td>11</td>\n",
       "      <td>10</td>\n",
       "      <td>3.18</td>\n",
       "      <td>2.88</td>\n",
       "      <td>3.10</td>\n",
       "      <td>38.0</td>\n",
       "      <td>46.0</td>\n",
       "      <td>60.0</td>\n",
       "    </tr>\n",
       "  </tbody>\n",
       "</table>\n",
       "</div>"
      ],
      "text/plain": [
       "   YEAR  MONTH  DAY  PRICE_POST FM SZ HNYBNCH OT ALM  \\\n",
       "0  2010     10   13                             3.24   \n",
       "1  2010     10   20                             3.18   \n",
       "2  2010     10   27                             3.18   \n",
       "3  2010     11    3                             3.18   \n",
       "4  2010     11   10                             3.18   \n",
       "\n",
       "   PRICE_POST FRUITY PEBBLES  PRICE_POST HNY BN OTS HNY RSTD  \\\n",
       "0                       2.88                            3.24   \n",
       "1                       2.88                            3.18   \n",
       "2                       1.99                            3.18   \n",
       "3                       2.82                            3.18   \n",
       "4                       2.88                            3.10   \n",
       "\n",
       "   UNITS_POST FM SZ HNYBNCH OT ALM  UNITS_POST FRUITY PEBBLES  \\\n",
       "0                             45.0                       55.0   \n",
       "1                             47.0                       45.0   \n",
       "2                             34.0                      183.0   \n",
       "3                             37.0                       32.0   \n",
       "4                             38.0                       46.0   \n",
       "\n",
       "   UNITS_POST HNY BN OTS HNY RSTD  \n",
       "0                            78.0  \n",
       "1                            60.0  \n",
       "2                            50.0  \n",
       "3                            52.0  \n",
       "4                            60.0  "
      ]
     },
     "execution_count": 11,
     "metadata": {},
     "output_type": "execute_result"
    }
   ],
   "source": [
    "test_df.head()"
   ]
  },
  {
   "cell_type": "markdown",
   "metadata": {},
   "source": [
    "## 予測モデルの構築"
   ]
  },
  {
   "cell_type": "code",
   "execution_count": 12,
   "metadata": {},
   "outputs": [
    {
     "name": "stderr",
     "output_type": "stream",
     "text": [
      "[I 220829 00:36:52 predictor:123] RMSE for train data [POST FM SZ HNYBNCH OT ALM]: 19.0\n",
      "[I 220829 00:36:52 predictor:127] R^2 for train data [POST FM SZ HNYBNCH OT ALM]: 0.58\n",
      "[I 220829 00:36:53 predictor:123] RMSE for test data [POST FM SZ HNYBNCH OT ALM]: 27.8\n",
      "[I 220829 00:36:53 predictor:127] R^2 for test data [POST FM SZ HNYBNCH OT ALM]: -0.01\n",
      "[I 220829 00:36:53 predictor:123] RMSE for train data [POST FRUITY PEBBLES]: 59.9\n",
      "[I 220829 00:36:53 predictor:127] R^2 for train data [POST FRUITY PEBBLES]: 0.78\n",
      "[I 220829 00:36:54 predictor:123] RMSE for test data [POST FRUITY PEBBLES]: 59.3\n",
      "[I 220829 00:36:54 predictor:127] R^2 for test data [POST FRUITY PEBBLES]: 0.27\n",
      "[I 220829 00:36:55 predictor:123] RMSE for train data [POST HNY BN OTS HNY RSTD]: 18.4\n",
      "[I 220829 00:36:55 predictor:127] R^2 for train data [POST HNY BN OTS HNY RSTD]: 0.63\n",
      "[I 220829 00:36:55 predictor:123] RMSE for test data [POST HNY BN OTS HNY RSTD]: 28.3\n",
      "[I 220829 00:36:55 predictor:127] R^2 for test data [POST HNY BN OTS HNY RSTD]: 0.35\n",
      "[I 220829 00:36:56 predictor:123] RMSE for train data [POST FM SZ HNYBNCH OT ALM]: 18.2\n",
      "[I 220829 00:36:56 predictor:127] R^2 for train data [POST FM SZ HNYBNCH OT ALM]: 0.57\n",
      "[I 220829 00:36:56 predictor:123] RMSE for train data [POST FRUITY PEBBLES]: 30.3\n",
      "[I 220829 00:36:56 predictor:127] R^2 for train data [POST FRUITY PEBBLES]: 0.81\n",
      "[I 220829 00:36:57 predictor:123] RMSE for train data [POST HNY BN OTS HNY RSTD]: 22.9\n",
      "[I 220829 00:36:57 predictor:127] R^2 for train data [POST HNY BN OTS HNY RSTD]: 0.57\n"
     ]
    },
    {
     "data": {
      "text/plain": [
       "<Figure size 432x288 with 0 Axes>"
      ]
     },
     "metadata": {},
     "output_type": "display_data"
    }
   ],
   "source": [
    "# 学習データに対する予測モデルを構築\n",
    "train_predictors = PredictorHandler(\n",
    "    train_df=train_df,\n",
    "    test_df=test_df,\n",
    "    label2item=label2item,\n",
    "    predictor_name=predictor_name,\n",
    "    prefix=\"train\",\n",
    ")\n",
    "train_predictors.run()  # 結果はdata/results/realworld/predict　に格納\n",
    "\n",
    "# テストデータに対する予測モデルを構築\n",
    "test_predictors = PredictorHandler(\n",
    "    train_df=test_df,\n",
    "    label2item=label2item,\n",
    "    predictor_name=predictor_name,\n",
    "    prefix=\"test\",\n",
    ")\n",
    "test_predictors.run()  # 結果はdata/results/realworld/predict　に格納"
   ]
  },
  {
   "cell_type": "code",
   "execution_count": 13,
   "metadata": {},
   "outputs": [
    {
     "data": {
      "text/plain": [
       "defaultdict(<function src.predict.predictor.PredictorHandler.__init__.<locals>.<lambda>()>,\n",
       "            {'rmse': defaultdict(dict,\n",
       "                         {'train': {'POST FM SZ HNYBNCH OT ALM': 19.0,\n",
       "                           'POST FRUITY PEBBLES': 59.9,\n",
       "                           'POST HNY BN OTS HNY RSTD': 18.4,\n",
       "                           'mean': 32.43},\n",
       "                          'test': {'POST FM SZ HNYBNCH OT ALM': 27.8,\n",
       "                           'POST FRUITY PEBBLES': 59.3,\n",
       "                           'POST HNY BN OTS HNY RSTD': 28.3,\n",
       "                           'mean': 38.47}}),\n",
       "             'r2': defaultdict(dict,\n",
       "                         {'train': {'POST FM SZ HNYBNCH OT ALM': 0.58,\n",
       "                           'POST FRUITY PEBBLES': 0.78,\n",
       "                           'POST HNY BN OTS HNY RSTD': 0.63,\n",
       "                           'mean': 0.66},\n",
       "                          'test': {'POST FM SZ HNYBNCH OT ALM': -0.01,\n",
       "                           'POST FRUITY PEBBLES': 0.27,\n",
       "                           'POST HNY BN OTS HNY RSTD': 0.35,\n",
       "                           'mean': 0.2}})})"
      ]
     },
     "execution_count": 13,
     "metadata": {},
     "output_type": "execute_result"
    }
   ],
   "source": [
    "train_predictors.result"
   ]
  },
  {
   "cell_type": "code",
   "execution_count": null,
   "metadata": {},
   "outputs": [],
   "source": []
  }
 ],
 "metadata": {
  "kernelspec": {
   "display_name": "Python 3.9.1 ('.venv': poetry)",
   "language": "python",
   "name": "python3"
  },
  "language_info": {
   "codemirror_mode": {
    "name": "ipython",
    "version": 3
   },
   "file_extension": ".py",
   "mimetype": "text/x-python",
   "name": "python",
   "nbconvert_exporter": "python",
   "pygments_lexer": "ipython3",
   "version": "3.9.1"
  },
  "orig_nbformat": 4,
  "vscode": {
   "interpreter": {
    "hash": "deabe2d5fecd05fe41e061ce5977bccdc750003b60fb408ce6c37ce0c800a617"
   }
  }
 },
 "nbformat": 4,
 "nbformat_minor": 2
}
